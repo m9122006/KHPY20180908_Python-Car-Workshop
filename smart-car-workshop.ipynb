{
 "cells": [
  {
   "cell_type": "markdown",
   "metadata": {},
   "source": [
    "# 智慧自走車工作坊\n",
    "\n",
    "- MicroPython 基本硬體介紹\n",
    "- 自走車各部元件測試\n",
    "- 智慧自走車組裝、實作\n",
    "- 智慧IoT遙控車\n",
    "\n",
    "----\n"
   ]
  },
  {
   "cell_type": "markdown",
   "metadata": {},
   "source": [
    "## 課程大綱\n",
    "\n",
    "- 09:00 MicroPython硬體介紹\n",
    "- 09:30 自走車組裝、測試：使用現有網頁測試\n",
    "- 10:00 基本元件測試：使用程式控制led, 馬達, 超音波, 紅外線\n",
    "- 10:30 避障自走車 (超音波sensor)\n",
    "- 11:30 三向確認的自走車\n",
    "\n",
    "- 13:00 防跌落自走車\n",
    "    - 紅外線模組測試\n",
    "    - 防跌自走車的demo\n",
    "    - 練習題：超音波+紅外線 = 避障、防跌智慧自走車\n",
    "    \n",
    "- 14:00 遙控車實作\n",
    "    - UDP說明\n",
    "    - 遙控車實作\n",
    "    - 設定自己的花式動作\n",
    "    \n",
    "- 15:00 IoT遙控車\n",
    "    - 遠端資料探測\n",
    "    - 危險任務處理\n",
    "\n",
    "- 15:30 走迷宮\n",
    "    - 紅外線避障\n",
    "    - 超音波抓牆\n",
    "    \n",
    "    \n",
    "----\n"
   ]
  },
  {
   "cell_type": "markdown",
   "metadata": {},
   "source": [
    "## MicroPython硬體介紹\n",
    "\n",
    "- [基本硬體介紹](./MicroPython硬體介紹.ipynb)\n",
    "\n",
    "----\n"
   ]
  },
  {
   "cell_type": "markdown",
   "metadata": {},
   "source": [
    "## 自走車組裝、測試：使用網頁測試\n",
    "\n",
    "- TODO: 加入組裝的影片\n",
    "- 使用webtool, 可以控制Led, 馬達, 超音波\n",
    "- 測試網頁源始碼: 請見「webdemo」資料夾\n",
    "- [用Jupyter Notebook燒錄](自走車0-測試網頁.ipynb)\n",
    "----"
   ]
  },
  {
   "cell_type": "markdown",
   "metadata": {},
   "source": [
    "## 基本元件測試 (使用程式控制)\n",
    "\n",
    "[學習連結](自走車1-超音波避障.ipynb)\n",
    "\n",
    "- 馬達\n",
    "- 超音波\n",
    "\n",
    "----\n"
   ]
  },
  {
   "cell_type": "markdown",
   "metadata": {},
   "source": [
    "## 避障自走車\n",
    "\n",
    "[學習連結](自走車1-超音波避障.ipynb)\n",
    "\n",
    "- 超音波模組避障\n",
    "\n",
    "----\n"
   ]
  },
  {
   "cell_type": "markdown",
   "metadata": {},
   "source": [
    "## 三向確認的自走車\n",
    "\n",
    "- 學員練習題\n",
    "- [demo](自走車1-2-三向避障自走車.ipynb)\n",
    "\n",
    "----\n"
   ]
  },
  {
   "cell_type": "markdown",
   "metadata": {},
   "source": [
    "## 防跌落自走車\n",
    "\n",
    "[學習連結](自走車2-防跌自走車.ipynb)\n",
    "\n",
    "- 紅外線模組測試\n",
    "- 防跌自走車的demo\n",
    "- 學員練習題：超音波+紅外線 = 避障、防跌智慧自走車\n",
    "\n",
    "----\n"
   ]
  },
  {
   "cell_type": "markdown",
   "metadata": {},
   "source": [
    "## IoT遙控車實作\n",
    "\n",
    "[學習連結](自走車3-IoT遙控車.ipynb)\n",
    "\n",
    "- 練習UDP通訊控制Led\n",
    "- 遙控車Demo\n",
    "- 設計自己的動作\n",
    "- 執行\n",
    "\n",
    "----\n"
   ]
  },
  {
   "cell_type": "markdown",
   "metadata": {},
   "source": [
    "## IoT遙控車 之 陌生地域探索任務!\n",
    "\n",
    "在救災任務中常見機器人進入危險區域進行探勘任務；防爆小組以機器人輔助其進行高風險的防爆任務。這樣的酷炫機器人，我們也來試著設計看看吧!\n",
    "\n",
    "### 我們預計要完成以下任務!\n",
    "\n",
    "- 拋繩救災任務\n",
    "\n",
    "- 防爆小助手\n",
    "\n",
    "- 危險探勘任務\n"
   ]
  },
  {
   "cell_type": "markdown",
   "metadata": {},
   "source": [
    "## 走迷宮\n",
    "\n",
    "[學習連結](自走車4-走迷宮自走車.ipynb)\n",
    "\n",
    "- 紅外線避障\n",
    "\n",
    "- 超音波找牆 + 紅外線避障 = 沿牆走迷宮自走車\n",
    "\n",
    "- 其它idea: [參考](https://www.guokr.com/article/71536/)\n",
    "\n",
    "----\n"
   ]
  },
  {
   "cell_type": "code",
   "execution_count": null,
   "metadata": {
    "collapsed": true
   },
   "outputs": [],
   "source": []
  }
 ],
 "metadata": {
  "kernelspec": {
   "display_name": "MicroPython - USB",
   "language": "micropython",
   "name": "micropython"
  },
  "language_info": {
   "codemirror_mode": "python",
   "file_extension": ".py",
   "mimetype": "text/python",
   "name": "micropython"
  }
 },
 "nbformat": 4,
 "nbformat_minor": 2
}
