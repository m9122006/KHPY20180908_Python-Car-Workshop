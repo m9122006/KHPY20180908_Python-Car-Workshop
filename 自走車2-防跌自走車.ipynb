{
 "cells": [
  {
   "cell_type": "markdown",
   "metadata": {
    "collapsed": true
   },
   "source": [
    "# 防跌小車\n",
    "\n",
    "使用紅外線模組確認地面是否存在，如果不存在，就退後或是轉彎\n",
    "\n",
    "----\n"
   ]
  },
  {
   "cell_type": "code",
   "execution_count": 1,
   "metadata": {
    "scrolled": false
   },
   "outputs": [
    {
     "name": "stdout",
     "output_type": "stream",
     "text": [
      "\u001b[34m** WebSocket connected **\n",
      "\u001b[0mPassword: \n",
      "WebREPL connected\n",
      ">>> \u001b[34mReady.\n",
      "\u001b[0m"
     ]
    }
   ],
   "source": [
    "%websocketconnect --password 1234 ws://192.168.43.230:8266"
   ]
  },
  {
   "cell_type": "markdown",
   "metadata": {},
   "source": [
    "### 測試紅外線模組\n",
    "\n",
    "- 0:有偵測到\n",
    "- 1:無偵測到"
   ]
  },
  {
   "cell_type": "code",
   "execution_count": 8,
   "metadata": {},
   "outputs": [
    {
     "name": "stdout",
     "output_type": "stream",
     "text": [
      "[1][1][1][1][1][1][1][0][0][0][1][1][1]\u001b[34m\n",
      "\n",
      "*** Sending Ctrl-C\n",
      "\n",
      "\u001b[0m"
     ]
    },
    {
     "name": "stderr",
     "output_type": "stream",
     "text": [
      "Traceback (most recent call last):\n",
      "  File \"<stdin>\", line 12, in <module>\n",
      "KeyboardInterrupt: \n"
     ]
    }
   ],
   "source": [
    "#%sendtofile main.py\n",
    "\n",
    "import socket\n",
    "from machine import Pin\n",
    "import time\n",
    "\n",
    "D6 = 12\n",
    "Pir = Pin(D6, Pin.IN)\n",
    "\n",
    "for i in range(20):\n",
    "    print('['+str(Pir.value())+']', end='')\n",
    "    time.sleep(1)"
   ]
  },
  {
   "cell_type": "markdown",
   "metadata": {},
   "source": [
    "## 防跌小車"
   ]
  },
  {
   "cell_type": "code",
   "execution_count": 4,
   "metadata": {},
   "outputs": [
    {
     "name": "stdout",
     "output_type": "stream",
     "text": [
      "Sent 95 lines (1645 bytes) to main.py.\n"
     ]
    }
   ],
   "source": [
    "%sendtofile main.py\n",
    "\n",
    "# 定義\n",
    "import machine\n",
    "from machine import Pin\n",
    "from machine import PWM\n",
    "import time\n",
    "\n",
    "# PIN Define:\n",
    "D0 = 16\n",
    "D1 = 5  #PWM\n",
    "D2 = 4  #PWM\n",
    "D3 = 0  #PWM\n",
    "D4 = 2  #PWM, #Led on board\n",
    "D5 = 14 #PWM\n",
    "D6 = 12 #PWM\n",
    "D7 = 13 #PWM\n",
    "D8 = 15 #PWM\n",
    "\n",
    "#Setup PINS\n",
    "led = Pin(D4, Pin.OUT)\n",
    "for i in range(5):\n",
    "    led.value(not led.value())\n",
    "    time.sleep(0.2)\n",
    "    \n",
    "# ir\n",
    "Pir = Pin(D6, Pin.IN)\n",
    "\n",
    "# for motor sheilf\n",
    "motor_a1 = machine.Pin(D1, machine.Pin.OUT) #A-, speed\n",
    "motor_a2 = machine.Pin(D3, machine.Pin.OUT) #A+, dir\n",
    "motor_b1 = machine.Pin(D2, machine.Pin.OUT) #B-, speed\n",
    "motor_b2 = machine.Pin(D4, machine.Pin.OUT) #B+, dir\n",
    "FWD = 1\n",
    "REV = 0\n",
    "\n",
    "def car_fwd():\n",
    "    motor_a1.value(1)\n",
    "    motor_a2.value(FWD)\n",
    "    motor_b1.value(1)\n",
    "    motor_b2.value(FWD)\n",
    "\n",
    "def car_rev():\n",
    "    motor_a1.value(1)\n",
    "    motor_a2.value(REV)\n",
    "    motor_b1.value(1)\n",
    "    motor_b2.value(REV)\n",
    "\n",
    "def car_stop():\n",
    "    motor_a1.value(0)\n",
    "    motor_a2.value(FWD)\n",
    "    motor_b1.value(0)\n",
    "    motor_b2.value(FWD)\n",
    "\n",
    "def car_right():\n",
    "    motor_a1.value(0)     #r\n",
    "    #motor_a2.value(FWD)\n",
    "    motor_b1.value(1)     #l\n",
    "    motor_b2.value(FWD)\n",
    "\n",
    "def car_left():\n",
    "    motor_a1.value(1)\n",
    "    motor_a2.value(FWD)\n",
    "    motor_b1.value(0)\n",
    "    #motor_b2.value(REV)\n",
    "\n",
    "# 快速右轉\n",
    "def car_right2():\n",
    "    motor_a1.value(1)\n",
    "    motor_a2.value(REV)\n",
    "    motor_b1.value(1)\n",
    "    motor_b2.value(FWD)    \n",
    "\n",
    "# 快速左轉\n",
    "def car_left2():\n",
    "    motor_a1.value(1)\n",
    "    motor_a2.value(FWD)\n",
    "    motor_b1.value(1)\n",
    "    motor_b2.value(REV)\n",
    "\n",
    "\n",
    "# go~\n",
    "car_fwd()\n",
    "\n",
    "last_distance = 0\n",
    "while(True):\n",
    "\n",
    "    print(Pir.value())\n",
    "    if Pir.value()==0:#有地面\n",
    "        car_fwd()\n",
    "    else:\n",
    "        car_rev()\n",
    "        time.sleep(1)\n",
    "        car_right2()\n",
    "        time.sleep(0.5)\n",
    "\n",
    "    time.sleep(0.1)"
   ]
  },
  {
   "cell_type": "markdown",
   "metadata": {
    "collapsed": true
   },
   "source": [
    "## 練習題：防跌、避障自走車\n",
    "\n",
    "請試著把目前學到的超音波元件、紅外線元件整合在一起，完成你的智慧自走車\n"
   ]
  },
  {
   "cell_type": "code",
   "execution_count": null,
   "metadata": {
    "collapsed": true
   },
   "outputs": [],
   "source": [
    "# TODO:"
   ]
  }
 ],
 "metadata": {
  "kernelspec": {
   "display_name": "MicroPython - USB",
   "language": "micropython",
   "name": "micropython"
  },
  "language_info": {
   "codemirror_mode": "python",
   "file_extension": ".py",
   "mimetype": "text/python",
   "name": "micropython"
  }
 },
 "nbformat": 4,
 "nbformat_minor": 2
}
