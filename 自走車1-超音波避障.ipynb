{
 "cells": [
  {
   "cell_type": "markdown",
   "metadata": {},
   "source": [
    "# 自走車1 - 智慧避障自走車\n",
    "\n",
    "使用超音波sensor偵測前方障礙物距離，來實現閃避障礙物的功能\n",
    "\n",
    "----\n"
   ]
  },
  {
   "cell_type": "markdown",
   "metadata": {},
   "source": [
    "## 系統配置\n",
    "\n",
    "### ESP12的電機板\n",
    "\n",
    "- 電機電源（VM）：4.5V～36V，可單獨供電\n",
    "- 控制電源（VIN）：4.5V～9V（10VMAX），可單獨供電\n",
    "- 但我們這邊把VM, VIN短路，比較省事\n",
    "- 其中，D1，D3（A電機）；D2，D4（B電機）\n",
    "\n",
    "![電機板](image/motor_board.png)\n",
    "\n",
    "### 供電\n",
    "\n",
    "- 以行動電源供電即可\n",
    "- 當然，如果能夠分別供電的話，系統會更加的穩定\n",
    "\n",
    "### 馬達\n",
    "\n",
    "- TT減速馬達(48:1)\n",
    "\n",
    "### 超音波測距模組\n",
    "\n",
    "- HC-SR04+ : 給MicroPython 記得使用這一款，可以吃3.3V、5V的電，因為MicroPython是3.3V的GPIO\n",
    "\n",
    "----"
   ]
  },
  {
   "cell_type": "markdown",
   "metadata": {},
   "source": [
    "## 測試馬達"
   ]
  },
  {
   "cell_type": "code",
   "execution_count": 2,
   "metadata": {},
   "outputs": [
    {
     "name": "stdout",
     "output_type": "stream",
     "text": [
      "\u001b[34mConnecting to --port=com13 --baud=115200 \u001b[0m\n",
      "\u001b[34mReady.\n",
      "\u001b[0m"
     ]
    }
   ],
   "source": [
    "%serialconnect to --port=com13 --baud=115200"
   ]
  },
  {
   "cell_type": "code",
   "execution_count": 1,
   "metadata": {
    "scrolled": true
   },
   "outputs": [
    {
     "name": "stdout",
     "output_type": "stream",
     "text": [
      "\u001b[34m** WebSocket connected **\n",
      "\u001b[0mPassword: \n",
      "WebREPL connected\n",
      ">>> \u001b[34mReady.\n",
      "\u001b[0m"
     ]
    }
   ],
   "source": [
    "%websocketconnect --password 1234 ws://192.168.43.230:8266"
   ]
  },
  {
   "cell_type": "code",
   "execution_count": 2,
   "metadata": {
    "collapsed": true
   },
   "outputs": [],
   "source": [
    "# 定義\n",
    "import machine\n",
    "from machine import Pin\n",
    "from machine import PWM\n",
    "import time\n",
    "\n",
    "# PIN Define:\n",
    "D0 = 16\n",
    "D1 = 5  #PWM\n",
    "D2 = 4  #PWM\n",
    "D3 = 0  #PWM\n",
    "D4 = 2  #PWM, #Led on board\n",
    "D5 = 14 #PWM\n",
    "D6 = 12 #PWM\n",
    "D7 = 13 #PWM\n",
    "D8 = 15 #PWM\n",
    "\n",
    "# for motor sheilf\n",
    "motor_a1 = machine.Pin(D1, machine.Pin.OUT) #A-, speed\n",
    "motor_a2 = machine.Pin(D3, machine.Pin.OUT) #A+, dir\n",
    "motor_b1 = machine.Pin(D2, machine.Pin.OUT) #B-, speed\n",
    "motor_b2 = machine.Pin(D4, machine.Pin.OUT) #B+, dir\n",
    "FWD = 1\n",
    "REV = 0"
   ]
  },
  {
   "cell_type": "code",
   "execution_count": 14,
   "metadata": {
    "collapsed": true
   },
   "outputs": [],
   "source": [
    "def car_fwd():\n",
    "    motor_a1.value(1)\n",
    "    motor_a2.value(FWD)\n",
    "    motor_b1.value(1)\n",
    "    motor_b2.value(FWD)\n",
    "\n",
    "def car_rev():\n",
    "    motor_a1.value(1)\n",
    "    motor_a2.value(REV)\n",
    "    motor_b1.value(1)\n",
    "    motor_b2.value(REV)\n",
    "\n",
    "def car_stop():\n",
    "    motor_a1.value(0)\n",
    "    motor_a2.value(FWD)\n",
    "    motor_b1.value(0)\n",
    "    motor_b2.value(FWD)\n",
    "\n",
    "def car_right():\n",
    "    motor_a1.value(0)     #r\n",
    "    #motor_a2.value(FWD)\n",
    "    motor_b1.value(1)     #l\n",
    "    motor_b2.value(FWD)\n",
    "\n",
    "def car_left():\n",
    "    motor_a1.value(1)\n",
    "    motor_a2.value(FWD)\n",
    "    motor_b1.value(0)\n",
    "    #motor_b2.value(REV)\n",
    "\n",
    "# 快速右轉\n",
    "def car_right2():\n",
    "    motor_a1.value(1)\n",
    "    motor_a2.value(REV)\n",
    "    motor_b1.value(1)\n",
    "    motor_b2.value(FWD)    \n",
    "\n",
    "# 快速左轉\n",
    "def car_left2():\n",
    "    motor_a1.value(1)\n",
    "    motor_a2.value(FWD)\n",
    "    motor_b1.value(1)\n",
    "    motor_b2.value(REV)\n"
   ]
  },
  {
   "cell_type": "markdown",
   "metadata": {},
   "source": [
    "### 測試前進、後退、左轉、右轉"
   ]
  },
  {
   "cell_type": "code",
   "execution_count": 4,
   "metadata": {
    "collapsed": true
   },
   "outputs": [],
   "source": [
    "# 前進\n",
    "car_fwd()"
   ]
  },
  {
   "cell_type": "code",
   "execution_count": 5,
   "metadata": {
    "collapsed": true
   },
   "outputs": [],
   "source": [
    "# 後退\n",
    "car_rev()"
   ]
  },
  {
   "cell_type": "code",
   "execution_count": 9,
   "metadata": {
    "collapsed": true
   },
   "outputs": [],
   "source": [
    "# 右轉\n",
    "car_right()"
   ]
  },
  {
   "cell_type": "code",
   "execution_count": 11,
   "metadata": {
    "collapsed": true
   },
   "outputs": [],
   "source": [
    "# 左轉\n",
    "car_left()"
   ]
  },
  {
   "cell_type": "code",
   "execution_count": 15,
   "metadata": {
    "collapsed": true
   },
   "outputs": [],
   "source": [
    "# 右轉x2\n",
    "car_right2()"
   ]
  },
  {
   "cell_type": "code",
   "execution_count": 16,
   "metadata": {
    "collapsed": true
   },
   "outputs": [],
   "source": [
    "# 左轉x2\n",
    "car_left2()"
   ]
  },
  {
   "cell_type": "code",
   "execution_count": 17,
   "metadata": {
    "collapsed": true
   },
   "outputs": [],
   "source": [
    "# 停止\n",
    "car_stop()"
   ]
  },
  {
   "cell_type": "markdown",
   "metadata": {
    "collapsed": true
   },
   "source": [
    "----\n",
    "\n",
    "## 超音波元件\n",
    "\n",
    "使用 HC-SR04+ 超音波元件測距\n",
    "\n",
    "- [說明文件](http://eshare.stust.edu.tw/EshareFile/2017_5/2017_5_5c1330b6.pdf)：第一頁有原理說明的圖面。(本地端亦有下載[一份](other/hc-sr04說明文件.pdf)\n",
    "- 音速 340m/s --> 34000cm/s，因此 1cm的距離要花費29.4us\n",
    "- 因超音波測距時，聲音走的距離是去回一併計算，因此 (29.4*2)=58.8, 但一般都取58us/cm\n",
    "- 這邊 ping()函式預設量測最大距離為50cm，因此50*58=2900us，一次量測最久不該等超過3000us (3ms)\n",
    "- 因timeout (即等超過3000us的時間)代表量測不到，或是障礙物距離很遠，因此回傳一極大值999，代表timeout\n"
   ]
  },
  {
   "cell_type": "code",
   "execution_count": 147,
   "metadata": {},
   "outputs": [
    {
     "name": "stdout",
     "output_type": "stream",
     "text": [
      "\u001b[34m** WebSocket connected **\n",
      "\u001b[0mPassword: \u001b[34mReady.\n",
      "\u001b[0m"
     ]
    }
   ],
   "source": [
    "%websocketconnect --password 1234 ws://192.168.43.230:8266"
   ]
  },
  {
   "cell_type": "code",
   "execution_count": 20,
   "metadata": {},
   "outputs": [
    {
     "name": "stdout",
     "output_type": "stream",
     "text": [
      "14.1207 cm\n",
      "17.0862 cm\n",
      "16.3103 cm\n",
      "16.3276 cm\n",
      "17.2241 cm\n",
      "16.3103 cm\n",
      ".16.931 cm\n",
      "14.4828 cm\n",
      "\u001b[34m\n",
      "\n",
      "*** Sending Ctrl-C\n",
      "\n",
      "\u001b[0m14.4828 cm\n"
     ]
    },
    {
     "name": "stderr",
     "output_type": "stream",
     "text": [
      "Traceback (most recent call last):\n",
      "  File \"<stdin>\", line 48, in <module>\n",
      "KeyboardInterrupt: \n"
     ]
    }
   ],
   "source": [
    "# 340m/s --> 34000cm/s --> 1cm要29.4us --> 去回，所以除以(29.4*2)=58.8，但手冊是寫58us為1cm\n",
    "# 如果目標是50cm內的量測距離 --> 50*58=2900us為最長時間\n",
    "# timeout:回傳999\n",
    "\n",
    "import time\n",
    "from machine import Pin\n",
    "\n",
    "def ping(trigPin, echoPin):\n",
    "    '''\n",
    "        return: distance (cm)\n",
    "    '''\n",
    "    trig=Pin(trigPin, Pin.OUT)\n",
    "    echo=Pin(echoPin, Pin.IN)\n",
    "    trig.value(1)\n",
    "    time.sleep_us(10)\n",
    "    trig.value(0)\n",
    "    timeout=False\n",
    "    tm_start=time.ticks_us() \n",
    "    while not echo.value(): #wait for HIGH, 3000us timeout\n",
    "        if(time.ticks_diff(time.ticks_us(), tm_start)>3000):\n",
    "            timeout=True\n",
    "            break\n",
    "    if timeout: #timeout return 0\n",
    "        pass\n",
    "    else: #got HIGH pulse:calculate duration\n",
    "        tm_start=time.ticks_us()\n",
    "        tm_delta = 0\n",
    "        while echo.value(): #wait for LOW\n",
    "            tm_delta = time.ticks_diff(time.ticks_us(), tm_start)\n",
    "            if(tm_delta>3000):\n",
    "                timeout=True\n",
    "                break\n",
    "        if timeout:\n",
    "            pass\n",
    "        else:\n",
    "            tm_delta = time.ticks_diff(time.ticks_us(), tm_start)\n",
    "            duration=tm_delta\n",
    "    \n",
    "    if timeout:\n",
    "        return 999 #cm, for timeout\n",
    "        \n",
    "    return duration/58\n",
    "\n",
    "while True:\n",
    "    distance=ping(trigPin=D7,echoPin=D8)\n",
    "    print('%s cm' % distance)\n",
    "    time.sleep(1)"
   ]
  },
  {
   "cell_type": "markdown",
   "metadata": {},
   "source": [
    "----\n",
    "\n",
    "### 燒入MicroPython板子\n",
    "\n",
    "- MicroPython一上電會執行 main.py 的程式，因此我們使用magic command \"sendtofile\" 燒入板子裡\n"
   ]
  },
  {
   "cell_type": "code",
   "execution_count": 18,
   "metadata": {},
   "outputs": [
    {
     "name": "stdout",
     "output_type": "stream",
     "text": [
      "\u001b[34m** WebSocket connected **\n",
      "\u001b[0mPassword: \n",
      "WebREPL connected\n",
      ">>> \n",
      ">>> \n",
      "raw REPL; CTRL-B to exit\n",
      ">\u001b[34mReady.\n",
      "\u001b[0m"
     ]
    }
   ],
   "source": [
    "%websocketconnect --password 1234 ws://192.168.43.230:8266"
   ]
  },
  {
   "cell_type": "markdown",
   "metadata": {},
   "source": [
    "- 燒錄避障小車程式\n",
    "- 二輪方向為前進方向"
   ]
  },
  {
   "cell_type": "code",
   "execution_count": 19,
   "metadata": {
    "scrolled": true
   },
   "outputs": [
    {
     "name": "stdout",
     "output_type": "stream",
     "text": [
      "Sent 129 lines (2699 bytes) to main.py.\n"
     ]
    }
   ],
   "source": [
    "%sendtofile main.py\n",
    "\n",
    "# 定義\n",
    "import machine\n",
    "from machine import Pin\n",
    "from machine import PWM\n",
    "import time\n",
    "\n",
    "# PIN Define:\n",
    "D0 = 16\n",
    "D1 = 5  #PWM\n",
    "D2 = 4  #PWM\n",
    "D3 = 0  #PWM\n",
    "D4 = 2  #PWM, #Led on board\n",
    "D5 = 14 #PWM\n",
    "D6 = 12 #PWM\n",
    "D7 = 13 #PWM\n",
    "D8 = 15 #PWM\n",
    "\n",
    "#Setup PINS\n",
    "led = machine.Pin(2, machine.Pin.OUT)\n",
    "for i in range(5):\n",
    "    led.value(not led.value())\n",
    "\n",
    "# for motor sheilf\n",
    "motor_a1 = machine.Pin(D1, machine.Pin.OUT) #A-, speed\n",
    "motor_a2 = machine.Pin(D3, machine.Pin.OUT) #A+, dir\n",
    "motor_b1 = machine.Pin(D2, machine.Pin.OUT) #B-, speed\n",
    "motor_b2 = machine.Pin(D4, machine.Pin.OUT) #B+, dir\n",
    "FWD = 1\n",
    "REV = 0\n",
    "\n",
    "def car_fwd():\n",
    "    motor_a1.value(1)\n",
    "    motor_a2.value(FWD)\n",
    "    motor_b1.value(1)\n",
    "    motor_b2.value(FWD)\n",
    "\n",
    "def car_rev():\n",
    "    motor_a1.value(1)\n",
    "    motor_a2.value(REV)\n",
    "    motor_b1.value(1)\n",
    "    motor_b2.value(REV)\n",
    "\n",
    "def car_stop():\n",
    "    motor_a1.value(0)\n",
    "    motor_a2.value(FWD)\n",
    "    motor_b1.value(0)\n",
    "    motor_b2.value(FWD)\n",
    "\n",
    "def car_right():\n",
    "    motor_a1.value(0)     #r\n",
    "    #motor_a2.value(FWD)\n",
    "    motor_b1.value(1)     #l\n",
    "    motor_b2.value(FWD)\n",
    "\n",
    "def car_left():\n",
    "    motor_a1.value(1)\n",
    "    motor_a2.value(FWD)\n",
    "    motor_b1.value(0)\n",
    "    #motor_b2.value(REV)\n",
    "\n",
    "# 快速右轉\n",
    "def car_right2():\n",
    "    motor_a1.value(1)\n",
    "    motor_a2.value(REV)\n",
    "    motor_b1.value(1)\n",
    "    motor_b2.value(FWD)    \n",
    "\n",
    "# 快速左轉\n",
    "def car_left2():\n",
    "    motor_a1.value(1)\n",
    "    motor_a2.value(FWD)\n",
    "    motor_b1.value(1)\n",
    "    motor_b2.value(REV)\n",
    "\n",
    "\n",
    "def ping(trigPin, echoPin):\n",
    "    '''\n",
    "        return: distance (cm)\n",
    "    '''\n",
    "    trig=Pin(trigPin, Pin.OUT)\n",
    "    echo=Pin(echoPin, Pin.IN)\n",
    "    trig.value(1)\n",
    "    time.sleep_us(10)\n",
    "    trig.value(0)\n",
    "    timeout=False\n",
    "    tm_start=time.ticks_us() \n",
    "    while not echo.value(): #wait for HIGH, 3000us timeout\n",
    "        if(time.ticks_diff(time.ticks_us(), tm_start)>3000):\n",
    "            timeout=True\n",
    "            break\n",
    "    if timeout: #timeout return 0\n",
    "        pass\n",
    "    else: #got HIGH pulse:calculate duration\n",
    "        tm_start=time.ticks_us()\n",
    "        tm_delta = 0\n",
    "        while echo.value(): #wait for LOW\n",
    "            tm_delta = time.ticks_diff(time.ticks_us(), tm_start)\n",
    "            if(tm_delta>3000):\n",
    "                timeout=True\n",
    "                break\n",
    "        if timeout:\n",
    "            pass\n",
    "        else:\n",
    "            tm_delta = time.ticks_diff(time.ticks_us(), tm_start)\n",
    "            duration=tm_delta\n",
    "    \n",
    "    if timeout:\n",
    "        return 999 #cm, for timeout\n",
    "        \n",
    "    return duration/58\n",
    "\n",
    "# go~\n",
    "car_fwd()\n",
    "\n",
    "while(True):\n",
    "    distance=ping(trigPin=D7,echoPin=D8)\n",
    "    if distance>25:\n",
    "        car_fwd()\n",
    "    elif distance>15:\n",
    "        car_stop()\n",
    "        time.sleep(0.5)\n",
    "        car_right()\n",
    "        time.sleep(0.25)\n",
    "    elif distance<=10:\n",
    "        car_stop()\n",
    "        time.sleep(0.5)\n",
    "        car_rev()\n",
    "        time.sleep(0.5)\n",
    "    time.sleep(0.1)"
   ]
  },
  {
   "cell_type": "markdown",
   "metadata": {},
   "source": [
    "- 上面的程式避障右轉0.5秒，大概會轉180度，可以改sleep(0.25)轉90度"
   ]
  }
 ],
 "metadata": {
  "kernelspec": {
   "display_name": "MicroPython - USB",
   "language": "micropython",
   "name": "micropython"
  },
  "language_info": {
   "codemirror_mode": "python",
   "file_extension": ".py",
   "mimetype": "text/python",
   "name": "micropython"
  }
 },
 "nbformat": 4,
 "nbformat_minor": 2
}
